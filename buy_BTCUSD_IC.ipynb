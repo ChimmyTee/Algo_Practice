{
 "cells": [
  {
   "cell_type": "code",
   "execution_count": 13,
   "metadata": {},
   "outputs": [],
   "source": [
    "import MetaTrader5 as mt5"
   ]
  },
  {
   "cell_type": "code",
   "execution_count": 14,
   "metadata": {},
   "outputs": [
    {
     "data": {
      "text/plain": [
       "True"
      ]
     },
     "execution_count": 14,
     "metadata": {},
     "output_type": "execute_result"
    }
   ],
   "source": [
    "mt5.initialize()"
   ]
  },
  {
   "cell_type": "code",
   "execution_count": 15,
   "metadata": {},
   "outputs": [
    {
     "data": {
      "text/plain": [
       "AccountInfo(login=61135318, trade_mode=0, leverage=30, limit_orders=500, margin_so_mode=0, trade_allowed=True, trade_expert=True, margin_mode=2, currency_digits=2, fifo_close=False, balance=9991.94, credit=0.0, profit=0.0, equity=9991.94, margin=0.0, margin_free=9991.94, margin_level=0.0, margin_so_call=90.0, margin_so_so=20.0, margin_initial=0.0, margin_maintenance=0.0, assets=0.0, liabilities=0.0, commission_blocked=0.0, name='Jimmy Tran', server='Pepperstone-Demo', currency='AUD', company='Pepperstone Group Limited')"
      ]
     },
     "execution_count": 15,
     "metadata": {},
     "output_type": "execute_result"
    }
   ],
   "source": [
    "mt5.account_info()"
   ]
  },
  {
   "cell_type": "code",
   "execution_count": 21,
   "metadata": {},
   "outputs": [
    {
     "name": "stdout",
     "output_type": "stream",
     "text": [
      "0\n",
      "1\n",
      "1\n",
      "Order placed:  70952091\n"
     ]
    }
   ],
   "source": [
    "# Define the symbol and lot size\n",
    "symbol = \"BTCUSD.a\"\n",
    "lot = 0.01\n",
    "\n",
    "# Get the ask price for the symbol\n",
    "# ask = mt5.symbol_info_tick(symbol).ask\n",
    "ask = mt5.symbol_info_tick(symbol).ask\n",
    "\n",
    "# Choose the deviation (slippage) in points\n",
    "deviation = 10\n",
    "\n",
    "# positions = mt5.positions_get(symbol=symbol)\n",
    "# if len(positions) > 0:\n",
    "#     # Close any open positions in the opposite direction\n",
    "#     position = positions[0]\n",
    "#     if position.type == mt5.ORDER_TYPE_SELL:\n",
    "#         # Close the sell position\n",
    "#         close_request = {\n",
    "#             \"action\": mt5.TRADE_ACTION_DEAL,\n",
    "#             \"symbol\": symbol,\n",
    "#             \"volume\": position.volume,\n",
    "#             \"type\": mt5.ORDER_TYPE_BUY,\n",
    "#             \"position\": position.ticket,\n",
    "#             \"price\": mt5.symbol_info_tick(symbol).bid,\n",
    "#             \"deviation\": 100,\n",
    "#             \"type_time\": mt5.ORDER_TIME_GTC,\n",
    "#         }\n",
    "#         close_result = mt5.order_send(close_request)\n",
    "#         if close_result.retcode != mt5.TRADE_RETCODE_DONE:\n",
    "#             print(\"Failed to close position: \", close_result.comment)\n",
    "\n",
    "# Find the filling mode for the symbol\n",
    "# filling_type = mt5.symbol_info(symbol).filling_mode\n",
    "def find_filling_mode(symbol):\n",
    "        for i in range(2):\n",
    "            request = {\n",
    "            \"action\": mt5.TRADE_ACTION_DEAL,\n",
    "            \"symbol\": symbol,\n",
    "            \"volume\": mt5.symbol_info(symbol).volume_min,\n",
    "            \"type\": mt5.ORDER_TYPE_BUY,\n",
    "            \"price\": mt5.symbol_info_tick(symbol).ask,\n",
    "            \"type_filling\": i,\n",
    "            \"type_time\": mt5.ORDER_TIME_GTC}\n",
    "\n",
    "            result = mt5.order_check(request)\n",
    "            print(i)\n",
    "            if result.comment == \"Done\":\n",
    "                break\n",
    "\n",
    "        print(i)\n",
    "        return i\n",
    "\n",
    "# Create the trade request dictionary\n",
    "request = {\n",
    "    \"action\": mt5.TRADE_ACTION_DEAL,\n",
    "    \"symbol\": symbol,\n",
    "    \"volume\": lot,\n",
    "    \"type\": mt5.ORDER_TYPE_BUY,\n",
    "    \"price\": ask,\n",
    "    \"deviation\": deviation,\n",
    "    \"type_filling\": find_filling_mode(symbol),\n",
    "    \"type_time\": mt5.ORDER_TIME_GTC,\n",
    "}\n",
    "\n",
    "# Send the trade request and check the result\n",
    "result = mt5.order_send(request)\n",
    "if result.retcode != mt5.TRADE_RETCODE_DONE:\n",
    "    print(\"Order failed: \", result.comment)\n",
    "else:\n",
    "    print(\"Order placed: \", result.order)"
   ]
  },
  {
   "cell_type": "code",
   "execution_count": 59,
   "metadata": {},
   "outputs": [
    {
     "name": "stdout",
     "output_type": "stream",
     "text": [
      "Tick(time=1677343109, bid=23011.18, ask=23015.82, last=0.0, volume=0, time_msc=1677343109325, flags=6, volume_real=0.0)\n",
      "Show symbol_info_tick(\"BTCUSD\")._asdict():\n",
      "  time=1677343109\n",
      "  bid=23011.18\n",
      "  ask=23015.82\n",
      "  last=0.0\n",
      "  volume=0\n",
      "  time_msc=1677343109325\n",
      "  flags=6\n",
      "  volume_real=0.0\n"
     ]
    }
   ],
   "source": [
    "# display the last GBPUSD tick\n",
    "lasttick=mt5.symbol_info_tick(\"BTCUSD\")\n",
    "print(lasttick)\n",
    "# display tick field values in the form of a list\n",
    "print(\"Show symbol_info_tick(\\\"BTCUSD\\\")._asdict():\")\n",
    "symbol_info_tick_dict = mt5.symbol_info_tick(\"BTCUSD\")._asdict()\n",
    "for prop in symbol_info_tick_dict:\n",
    "    print(\"  {}={}\".format(prop, symbol_info_tick_dict[prop]))"
   ]
  }
 ],
 "metadata": {
  "kernelspec": {
   "display_name": "base",
   "language": "python",
   "name": "python3"
  },
  "language_info": {
   "codemirror_mode": {
    "name": "ipython",
    "version": 3
   },
   "file_extension": ".py",
   "mimetype": "text/x-python",
   "name": "python",
   "nbconvert_exporter": "python",
   "pygments_lexer": "ipython3",
   "version": "3.9.13"
  },
  "orig_nbformat": 4,
  "vscode": {
   "interpreter": {
    "hash": "0f40ab2526fa8d1be48be0856e746aabd6f85c3c8b31ebfbd5c7c9ed05264adc"
   }
  }
 },
 "nbformat": 4,
 "nbformat_minor": 2
}
