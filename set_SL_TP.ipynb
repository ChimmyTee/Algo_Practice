{
 "cells": [
  {
   "cell_type": "code",
   "execution_count": 1,
   "metadata": {},
   "outputs": [],
   "source": [
    "import MetaTrader5 as mt5\n",
    "from datetime import datetime\n",
    "import numpy as np\n"
   ]
  },
  {
   "cell_type": "code",
   "execution_count": 2,
   "metadata": {},
   "outputs": [
    {
     "data": {
      "text/plain": [
       "True"
      ]
     },
     "execution_count": 2,
     "metadata": {},
     "output_type": "execute_result"
    }
   ],
   "source": [
    "mt5.initialize()"
   ]
  },
  {
   "cell_type": "code",
   "execution_count": 14,
   "metadata": {},
   "outputs": [],
   "source": [
    "lot = 0.01\n",
    "symbol = \"EURUSD.a\"\n",
    "\n",
    "point = mt5.symbol_info(symbol).point\n",
    "deviation = 10\n",
    "def find_filling_mode(symbol):\n",
    "        for i in range(2):\n",
    "            request = {\n",
    "            \"action\": mt5.TRADE_ACTION_DEAL,\n",
    "            \"symbol\": symbol,\n",
    "            \"volume\": mt5.symbol_info(symbol).volume_min,\n",
    "            \"type\": mt5.ORDER_TYPE_BUY,\n",
    "            \"price\": mt5.symbol_info(symbol).ask,\n",
    "            \"type_filling\": i,\n",
    "            \"type_time\": mt5.ORDER_TIME_GTC}\n",
    "            result = mt5.order_check(request)\n",
    "            if result.comment == \"Done\":\n",
    "                break\n",
    "        return i\n"
   ]
  },
  {
   "cell_type": "code",
   "execution_count": 15,
   "metadata": {},
   "outputs": [
    {
     "data": {
      "text/plain": [
       "OrderSendResult(retcode=10009, deal=55608523, order=71002892, volume=0.01, price=1.0612, bid=0.0, ask=0.0, comment='Request executed', request_id=13, retcode_external=0, request=TradeRequest(action=1, magic=0, order=0, symbol='EURUSD.a', volume=0.01, price=1.0613, stoplimit=0.0, sl=1.0622999999999998, tp=1.0603, deviation=10, type=1, type_filling=1, type_time=0, expiration=0, comment='', position=0, position_by=0))"
      ]
     },
     "execution_count": 15,
     "metadata": {},
     "output_type": "execute_result"
    }
   ],
   "source": [
    "request = {\n",
    "    \"action\": mt5.TRADE_ACTION_DEAL,\n",
    "    \"symbol\": symbol,\n",
    "    \"volume\": lot,\n",
    "    \"type\": mt5.ORDER_TYPE_SELL,\n",
    "    \"price\": mt5.symbol_info_tick(symbol).ask,\n",
    "    \"tp\": mt5.symbol_info_tick(symbol).ask - 100*point,\n",
    "    \"sl\": mt5.symbol_info_tick(symbol).ask + 100*point,\n",
    "    \"deviation\": deviation,\n",
    "    \"type_filling\": find_filling_mode(symbol),\n",
    "    \"type_time\": mt5.ORDER_TIME_GTC,\n",
    "}\n",
    "\n",
    "mt5.order_check(request).comment\n",
    "mt5.order_send(request)"
   ]
  },
  {
   "cell_type": "code",
   "execution_count": null,
   "metadata": {},
   "outputs": [],
   "source": []
  }
 ],
 "metadata": {
  "kernelspec": {
   "display_name": "base",
   "language": "python",
   "name": "python3"
  },
  "language_info": {
   "codemirror_mode": {
    "name": "ipython",
    "version": 3
   },
   "file_extension": ".py",
   "mimetype": "text/x-python",
   "name": "python",
   "nbconvert_exporter": "python",
   "pygments_lexer": "ipython3",
   "version": "3.9.13"
  },
  "orig_nbformat": 4,
  "vscode": {
   "interpreter": {
    "hash": "0f40ab2526fa8d1be48be0856e746aabd6f85c3c8b31ebfbd5c7c9ed05264adc"
   }
  }
 },
 "nbformat": 4,
 "nbformat_minor": 2
}
