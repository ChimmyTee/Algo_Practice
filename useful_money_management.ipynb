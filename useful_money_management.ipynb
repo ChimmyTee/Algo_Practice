{
 "cells": [
  {
   "cell_type": "code",
   "execution_count": 5,
   "metadata": {},
   "outputs": [
    {
     "data": {
      "text/plain": [
       "True"
      ]
     },
     "execution_count": 5,
     "metadata": {},
     "output_type": "execute_result"
    }
   ],
   "source": [
    "import MetaTrader5 as mt5\n",
    "from datetime import datetime\n",
    "import numpy as np\n",
    "import pandas as pd\n",
    "import time\n",
    "mt5.initialize()"
   ]
  },
  {
   "cell_type": "code",
   "execution_count": 6,
   "metadata": {},
   "outputs": [
    {
     "data": {
      "text/plain": [
       "(TradePosition(ticket=71206014, time=1678105771, time_msc=1678105771857, time_update=1678105771, time_update_msc=1678105771857, type=0, magic=0, identifier=71206014, reason=0, volume=0.01, price_open=1.0637, sl=0.0, tp=0.0, price_current=1.06363, swap=0.0, profit=-0.1, symbol='EURUSD.a', comment='', external_id=''),)"
      ]
     },
     "execution_count": 6,
     "metadata": {},
     "output_type": "execute_result"
    }
   ],
   "source": [
    "mt5.positions_get()"
   ]
  },
  {
   "cell_type": "code",
   "execution_count": 8,
   "metadata": {},
   "outputs": [],
   "source": [
    "def resume():\n",
    "\n",
    "    columns = [\"ticket\", \"position\", \"symbol\", \"volume\", \"magic\", \"profit\", \"price\", \"tp\", \"sl\", \"trade_size\"]\n",
    "\n",
    "    list = mt5.positions_get()\n",
    "\n",
    "    summary = pd.DataFrame()\n",
    "\n",
    "    for element in list:\n",
    "        element_pandas = pd.DataFrame([element.ticket, element.type, element.symbol, element.volume, element.magic,\n",
    "                                       element.profit, element.price_open, element.tp, element.sl,\n",
    "                                       mt5.symbol_info(element.symbol).trade_contract_size],\n",
    "                                       index=columns).transpose()\n",
    "        \n",
    "        summary = pd.concat((summary, element_pandas), axis=0)\n",
    "\n",
    "\n",
    "    try:\n",
    "        summary[\"profit %\"] = summary.profit / (summary.price * summary.trade_size * summary.volume)\n",
    "        summary = summary.reset_index(drop=True)\n",
    "    except:\n",
    "        pass\n",
    "    return summary"
   ]
  },
  {
   "cell_type": "code",
   "execution_count": 9,
   "metadata": {},
   "outputs": [
    {
     "data": {
      "text/html": [
       "<div>\n",
       "<style scoped>\n",
       "    .dataframe tbody tr th:only-of-type {\n",
       "        vertical-align: middle;\n",
       "    }\n",
       "\n",
       "    .dataframe tbody tr th {\n",
       "        vertical-align: top;\n",
       "    }\n",
       "\n",
       "    .dataframe thead th {\n",
       "        text-align: right;\n",
       "    }\n",
       "</style>\n",
       "<table border=\"1\" class=\"dataframe\">\n",
       "  <thead>\n",
       "    <tr style=\"text-align: right;\">\n",
       "      <th></th>\n",
       "      <th>ticket</th>\n",
       "      <th>position</th>\n",
       "      <th>symbol</th>\n",
       "      <th>volume</th>\n",
       "      <th>magic</th>\n",
       "      <th>profit</th>\n",
       "      <th>price</th>\n",
       "      <th>tp</th>\n",
       "      <th>sl</th>\n",
       "      <th>trade_size</th>\n",
       "      <th>profit %</th>\n",
       "    </tr>\n",
       "  </thead>\n",
       "  <tbody>\n",
       "    <tr>\n",
       "      <th>0</th>\n",
       "      <td>71206014</td>\n",
       "      <td>0</td>\n",
       "      <td>EURUSD.a</td>\n",
       "      <td>0.01</td>\n",
       "      <td>0</td>\n",
       "      <td>-0.1</td>\n",
       "      <td>1.0637</td>\n",
       "      <td>0.0</td>\n",
       "      <td>0.0</td>\n",
       "      <td>100000.0</td>\n",
       "      <td>-0.000094</td>\n",
       "    </tr>\n",
       "  </tbody>\n",
       "</table>\n",
       "</div>"
      ],
      "text/plain": [
       "     ticket position    symbol volume magic profit   price   tp   sl  \\\n",
       "0  71206014        0  EURUSD.a   0.01     0   -0.1  1.0637  0.0  0.0   \n",
       "\n",
       "  trade_size  profit %  \n",
       "0   100000.0 -0.000094  "
      ]
     },
     "execution_count": 9,
     "metadata": {},
     "output_type": "execute_result"
    }
   ],
   "source": [
    "resume()"
   ]
  },
  {
   "cell_type": "code",
   "execution_count": 12,
   "metadata": {},
   "outputs": [
    {
     "data": {
      "text/plain": [
       "SymbolInfo(custom=False, chart_mode=0, select=True, visible=True, session_deals=0, session_buy_orders=0, session_sell_orders=0, volume=0, volumehigh=0, volumelow=0, time=1678105868, digits=5, spread=12, spread_float=True, ticks_bookdepth=0, trade_calc_mode=5, trade_mode=4, start_time=0, expiration_time=0, trade_stops_level=0, trade_freeze_level=0, trade_exemode=2, swap_mode=1, swap_rollover3days=3, margin_hedged_use_leg=False, expiration_mode=15, filling_mode=2, order_mode=127, order_gtc_mode=0, option_mode=0, option_right=0, bid=1.06363, bidhigh=1.06568, bidlow=1.06222, ask=1.06375, askhigh=1.06579, asklow=1.06242, last=0.0, lasthigh=0.0, lastlow=0.0, volume_real=0.0, volumehigh_real=0.0, volumelow_real=0.0, option_strike=0.0, point=1e-05, trade_tick_value=1.4854647276400423, trade_tick_value_profit=1.4854647276400423, trade_tick_value_loss=1.4857295675041233, trade_tick_size=1e-05, trade_contract_size=100000.0, trade_accrued_interest=0.0, trade_face_value=0.0, trade_liquidity_rate=0.0, volume_min=0.01, volume_max=100.0, volume_step=0.01, volume_limit=0.0, swap_long=-8.23, swap_short=5.03, margin_initial=0.0, margin_maintenance=0.0, session_volume=0.0, session_turnover=0.0, session_interest=0.0, session_buy_orders_volume=0.0, session_sell_orders_volume=0.0, session_open=1.06239, session_close=1.0633, session_aw=0.0, session_price_settlement=0.0, session_price_limit_min=0.0, session_price_limit_max=0.0, margin_hedged=100000.0, price_change=0.0357, price_volatility=0.0, price_theoretical=0.0, price_greeks_delta=0.0, price_greeks_theta=0.0, price_greeks_gamma=0.0, price_greeks_vega=0.0, price_greeks_rho=0.0, price_greeks_omega=0.0, price_sensitivity=0.0, basis='', category='', currency_base='EUR', currency_profit='USD', currency_margin='EUR', bank='Pepperstone', description='Euro vs US Dollar', exchange='', formula='', isin='', name='EURUSD.a', page='', path='Retail\\\\Forex\\\\Majors\\\\EURUSD.a')"
      ]
     },
     "execution_count": 12,
     "metadata": {},
     "output_type": "execute_result"
    }
   ],
   "source": [
    "mt5.symbol_info('EURUSD.a')"
   ]
  },
  {
   "attachments": {},
   "cell_type": "markdown",
   "metadata": {},
   "source": [
    "**TRAILING STOP LOSS**"
   ]
  },
  {
   "cell_type": "code",
   "execution_count": null,
   "metadata": {},
   "outputs": [],
   "source": [
    "# Create a dictionary to contain the maximum price of each symbol.\n",
    "max_price = dict()\n",
    "min_price = dict()\n",
    "\n",
    "# Infinite loop\n",
    "while True:\n",
    "\n",
    "    summary = resume()\n",
    "\n",
    "    # Verification: Is there any open position?\n",
    "    if summary.shape[0] > 0:\n",
    "        for i in range(summary.shape[0]):\n",
    "\n",
    "            # Extract information\n",
    "            row = summary.iloc[i]\n",
    "            symbol = row[\"symbol\"]\n",
    "\n",
    "            # Add the key if it is not in the keys list\n",
    "            if symbol not in max_price.keys():\n",
    "                max_price[symbol]=row[\"price\"]\n",
    "\n",
    "            if symbol not in min_price.keys():\n",
    "                min_price[symbol]=row{\"price\"}\n",
    "\n",
    "                "
   ]
  }
 ],
 "metadata": {
  "kernelspec": {
   "display_name": "base",
   "language": "python",
   "name": "python3"
  },
  "language_info": {
   "codemirror_mode": {
    "name": "ipython",
    "version": 3
   },
   "file_extension": ".py",
   "mimetype": "text/x-python",
   "name": "python",
   "nbconvert_exporter": "python",
   "pygments_lexer": "ipython3",
   "version": "3.9.13"
  },
  "orig_nbformat": 4
 },
 "nbformat": 4,
 "nbformat_minor": 2
}
