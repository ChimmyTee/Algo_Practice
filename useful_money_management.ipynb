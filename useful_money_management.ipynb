{
 "cells": [
  {
   "cell_type": "code",
   "execution_count": 1,
   "metadata": {},
   "outputs": [
    {
     "data": {
      "text/plain": [
       "True"
      ]
     },
     "execution_count": 1,
     "metadata": {},
     "output_type": "execute_result"
    }
   ],
   "source": [
    "import MetaTrader5 as mt5\n",
    "from datetime import datetime\n",
    "import numpy as np\n",
    "import pandas as pd\n",
    "import time\n",
    "mt5.initialize()"
   ]
  },
  {
   "cell_type": "code",
   "execution_count": 6,
   "metadata": {},
   "outputs": [
    {
     "data": {
      "text/plain": [
       "(TradePosition(ticket=71287076, time=1678210485, time_msc=1678210485858, time_update=1678210485, time_update_msc=1678210485858, type=0, magic=0, identifier=71287076, reason=0, volume=0.01, price_open=1.06122, sl=1.05633, tp=0.0, price_current=1.05931, swap=0.0, profit=-2.89, symbol='EURUSD.a', comment='', external_id=''),\n",
       " TradePosition(ticket=71288057, time=1678211108, time_msc=1678211108510, time_update=1678211108, time_update_msc=1678211108510, type=0, magic=0, identifier=71288057, reason=0, volume=0.01, price_open=1.0596, sl=1.05401, tp=0.0, price_current=1.05931, swap=0.0, profit=-0.44, symbol='EURUSD.a', comment='', external_id=''),\n",
       " TradePosition(ticket=71289575, time=1678211636, time_msc=1678211636702, time_update=1678211636, time_update_msc=1678211636702, type=0, magic=0, identifier=71289575, reason=0, volume=0.01, price_open=1.05839, sl=1.05185, tp=0.0, price_current=1.05931, swap=0.0, profit=1.3900000000000001, symbol='EURUSD.a', comment='', external_id=''))"
      ]
     },
     "execution_count": 6,
     "metadata": {},
     "output_type": "execute_result"
    }
   ],
   "source": [
    "mt5.positions_get()"
   ]
  },
  {
   "cell_type": "code",
   "execution_count": 7,
   "metadata": {},
   "outputs": [],
   "source": [
    "def find_filling_mode(symbol):\n",
    "        for i in range(2):\n",
    "            request = {\n",
    "            \"action\": mt5.TRADE_ACTION_DEAL,\n",
    "            \"symbol\": symbol,\n",
    "            \"volume\": mt5.symbol_info(symbol).volume_min,\n",
    "            \"type\": mt5.ORDER_TYPE_BUY,\n",
    "            \"price\": mt5.symbol_info(symbol).ask,\n",
    "            \"type_filling\": i,\n",
    "            \"type_time\": mt5.ORDER_TIME_GTC}\n",
    "            result = mt5.order_check(request)\n",
    "            if result.comment == \"Done\":\n",
    "                break\n",
    "        return i"
   ]
  },
  {
   "cell_type": "code",
   "execution_count": 8,
   "metadata": {},
   "outputs": [],
   "source": [
    "def resume():\n",
    "\n",
    "    columns = [\"ticket\", \"position\", \"symbol\", \"volume\", \"magic\", \"profit\", \"price\", \"tp\", \"sl\", \"trade_size\"]\n",
    "\n",
    "    list = mt5.positions_get()\n",
    "\n",
    "    summary = pd.DataFrame()\n",
    "\n",
    "    for element in list:\n",
    "        element_pandas = pd.DataFrame([element.ticket, element.type, element.symbol, element.volume, element.magic,\n",
    "                                       element.profit, element.price_open, element.tp, element.sl,\n",
    "                                       mt5.symbol_info(element.symbol).trade_contract_size],\n",
    "                                       index=columns).transpose()\n",
    "        \n",
    "        summary = pd.concat((summary, element_pandas), axis=0)\n",
    "\n",
    "\n",
    "    try:\n",
    "        summary[\"profit %\"] = summary.profit / (summary.price * summary.trade_size * summary.volume)\n",
    "        summary = summary.reset_index(drop=True)\n",
    "    except:\n",
    "        pass\n",
    "    return summary"
   ]
  },
  {
   "cell_type": "code",
   "execution_count": 5,
   "metadata": {},
   "outputs": [
    {
     "data": {
      "text/html": [
       "<div>\n",
       "<style scoped>\n",
       "    .dataframe tbody tr th:only-of-type {\n",
       "        vertical-align: middle;\n",
       "    }\n",
       "\n",
       "    .dataframe tbody tr th {\n",
       "        vertical-align: top;\n",
       "    }\n",
       "\n",
       "    .dataframe thead th {\n",
       "        text-align: right;\n",
       "    }\n",
       "</style>\n",
       "<table border=\"1\" class=\"dataframe\">\n",
       "  <thead>\n",
       "    <tr style=\"text-align: right;\">\n",
       "      <th></th>\n",
       "      <th>ticket</th>\n",
       "      <th>position</th>\n",
       "      <th>symbol</th>\n",
       "      <th>volume</th>\n",
       "      <th>magic</th>\n",
       "      <th>profit</th>\n",
       "      <th>price</th>\n",
       "      <th>tp</th>\n",
       "      <th>sl</th>\n",
       "      <th>trade_size</th>\n",
       "      <th>profit %</th>\n",
       "    </tr>\n",
       "  </thead>\n",
       "  <tbody>\n",
       "    <tr>\n",
       "      <th>0</th>\n",
       "      <td>71287076</td>\n",
       "      <td>0</td>\n",
       "      <td>EURUSD.a</td>\n",
       "      <td>0.01</td>\n",
       "      <td>0</td>\n",
       "      <td>-2.83</td>\n",
       "      <td>1.06122</td>\n",
       "      <td>0.0</td>\n",
       "      <td>1.05633</td>\n",
       "      <td>100000.0</td>\n",
       "      <td>-0.002667</td>\n",
       "    </tr>\n",
       "    <tr>\n",
       "      <th>1</th>\n",
       "      <td>71288057</td>\n",
       "      <td>0</td>\n",
       "      <td>EURUSD.a</td>\n",
       "      <td>0.01</td>\n",
       "      <td>0</td>\n",
       "      <td>-0.38</td>\n",
       "      <td>1.0596</td>\n",
       "      <td>0.0</td>\n",
       "      <td>1.05401</td>\n",
       "      <td>100000.0</td>\n",
       "      <td>-0.000359</td>\n",
       "    </tr>\n",
       "    <tr>\n",
       "      <th>2</th>\n",
       "      <td>71289575</td>\n",
       "      <td>0</td>\n",
       "      <td>EURUSD.a</td>\n",
       "      <td>0.01</td>\n",
       "      <td>0</td>\n",
       "      <td>1.45</td>\n",
       "      <td>1.05839</td>\n",
       "      <td>0.0</td>\n",
       "      <td>1.05185</td>\n",
       "      <td>100000.0</td>\n",
       "      <td>0.00137</td>\n",
       "    </tr>\n",
       "  </tbody>\n",
       "</table>\n",
       "</div>"
      ],
      "text/plain": [
       "     ticket position    symbol volume magic profit    price   tp       sl  \\\n",
       "0  71287076        0  EURUSD.a   0.01     0  -2.83  1.06122  0.0  1.05633   \n",
       "1  71288057        0  EURUSD.a   0.01     0  -0.38   1.0596  0.0  1.05401   \n",
       "2  71289575        0  EURUSD.a   0.01     0   1.45  1.05839  0.0  1.05185   \n",
       "\n",
       "  trade_size  profit %  \n",
       "0   100000.0 -0.002667  \n",
       "1   100000.0 -0.000359  \n",
       "2   100000.0   0.00137  "
      ]
     },
     "execution_count": 5,
     "metadata": {},
     "output_type": "execute_result"
    }
   ],
   "source": [
    "resume()"
   ]
  },
  {
   "cell_type": "code",
   "execution_count": 6,
   "metadata": {},
   "outputs": [
    {
     "data": {
      "text/plain": [
       "SymbolInfo(custom=False, chart_mode=0, select=True, visible=True, session_deals=0, session_buy_orders=0, session_sell_orders=0, volume=0, volumehigh=0, volumelow=0, time=1678210583, digits=5, spread=10, spread_float=True, ticks_bookdepth=0, trade_calc_mode=5, trade_mode=4, start_time=0, expiration_time=0, trade_stops_level=0, trade_freeze_level=0, trade_exemode=2, swap_mode=1, swap_rollover3days=3, margin_hedged_use_leg=False, expiration_mode=15, filling_mode=2, order_mode=127, order_gtc_mode=0, option_mode=0, option_right=0, bid=1.06136, bidhigh=1.06939, bidlow=1.05855, ask=1.06146, askhigh=1.06951, asklow=1.05868, last=0.0, lasthigh=0.0, lastlow=0.0, volume_real=0.0, volumehigh_real=0.0, volumelow_real=0.0, option_strike=0.0, point=1e-05, trade_tick_value=1.508409382306358, trade_tick_value_profit=1.508409382306358, trade_tick_value_loss=1.5087052291723244, trade_tick_size=1e-05, trade_contract_size=100000.0, trade_accrued_interest=0.0, trade_face_value=0.0, trade_liquidity_rate=0.0, volume_min=0.01, volume_max=100.0, volume_step=0.01, volume_limit=0.0, swap_long=-8.23, swap_short=5.03, margin_initial=0.0, margin_maintenance=0.0, session_volume=0.0, session_turnover=0.0, session_interest=0.0, session_buy_orders_volume=0.0, session_sell_orders_volume=0.0, session_open=1.06727, session_close=1.06826, session_aw=0.0, session_price_settlement=0.0, session_price_limit_min=0.0, session_price_limit_max=0.0, margin_hedged=100000.0, price_change=-0.6412, price_volatility=0.0, price_theoretical=0.0, price_greeks_delta=0.0, price_greeks_theta=0.0, price_greeks_gamma=0.0, price_greeks_vega=0.0, price_greeks_rho=0.0, price_greeks_omega=0.0, price_sensitivity=0.0, basis='', category='', currency_base='EUR', currency_profit='USD', currency_margin='EUR', bank='Pepperstone', description='Euro vs US Dollar', exchange='', formula='', isin='', name='EURUSD.a', page='', path='Retail\\\\Forex\\\\Majors\\\\EURUSD.a')"
      ]
     },
     "execution_count": 6,
     "metadata": {},
     "output_type": "execute_result"
    }
   ],
   "source": [
    "mt5.symbol_info('EURUSD.a')"
   ]
  },
  {
   "attachments": {},
   "cell_type": "markdown",
   "metadata": {},
   "source": [
    "**TRAILING STOP LOSS**"
   ]
  },
  {
   "cell_type": "code",
   "execution_count": 9,
   "metadata": {},
   "outputs": [],
   "source": [
    "# Create a dictionary to contain the maximum price of each symbol.\n",
    "max_price = dict()\n",
    "min_price = dict()\n",
    "\n",
    "# Infinite loop\n",
    "while True:\n",
    "\n",
    "    summary = resume()\n",
    "\n",
    "    # Verification: Is there any open position?\n",
    "    if summary.shape[0] > 0:\n",
    "        for i in range(summary.shape[0]):\n",
    "\n",
    "            # Extract information\n",
    "            row = summary.iloc[i]\n",
    "            symbol = row[\"symbol\"]\n",
    "\n",
    "            # Add the key if it is not in the keys list\n",
    "            if symbol not in max_price.keys():\n",
    "                max_price[symbol]=row[\"price\"]\n",
    "\n",
    "            if symbol not in min_price.keys():\n",
    "                min_price[symbol]=row[\"price\"]\n",
    "\n",
    "            \"\"\" CASE 1: Change dynamically the stop loss for a BUY ORDER \"\"\"\n",
    "            # Trailing stop loss for a buy order, 0 = buy, 1 = sell\n",
    "            if row[\"position\"] == 0:\n",
    "                # print(row)\n",
    "                # Extract current price\n",
    "                current_price = (mt5.symbol_info(symbol).ask + mt5.symbol_info(symbol).bid) / 2\n",
    "\n",
    "                # Compute distance between current price and max price\n",
    "                from_sl_to_current_price = current_price - row[\"sl\"]\n",
    "                from_sl_to_max_price = max_price[symbol] - row[\"sl\"]\n",
    "\n",
    "                # If current price is greater than previous max price --> new max price\n",
    "                if current_price > max_price[symbol]:\n",
    "                    max_price[symbol] = current_price\n",
    "\n",
    "                # Find the difference between the current minus max\n",
    "                if from_sl_to_current_price > from_sl_to_max_price:\n",
    "                    difference = from_sl_to_current_price - from_sl_to_max_price\n",
    "\n",
    "                    filling_type = find_filling_mode(symbol)\n",
    "\n",
    "                    point = mt5.symbol_info(symbol).point\n",
    "\n",
    "                    request = {\n",
    "                        \"action\": mt5.TRADE_ACTION_SLTP,\n",
    "                        \"symbol\": symbol,\n",
    "                        \"position\": row[\"ticket\"],\n",
    "                        \"volume\": row[\"volume\"],\n",
    "                        \"type\": mt5.ORDER_TYPE_BUY,\n",
    "                        \"price\": row[\"price\"],\n",
    "                        \"sl\": row[\"sl\"] + difference,\n",
    "                        \"type_filling\": filling_type,\n",
    "                        \"type_time\": mt5.ORDER_TIME_GTC\n",
    "                    }\n",
    "\n",
    "                    information = mt5.order_send(request)\n",
    "                    # print(information)\n",
    "                    \n",
    "\n"
   ]
  }
 ],
 "metadata": {
  "kernelspec": {
   "display_name": "base",
   "language": "python",
   "name": "python3"
  },
  "language_info": {
   "codemirror_mode": {
    "name": "ipython",
    "version": 3
   },
   "file_extension": ".py",
   "mimetype": "text/x-python",
   "name": "python",
   "nbconvert_exporter": "python",
   "pygments_lexer": "ipython3",
   "version": "3.9.13"
  },
  "orig_nbformat": 4
 },
 "nbformat": 4,
 "nbformat_minor": 2
}
