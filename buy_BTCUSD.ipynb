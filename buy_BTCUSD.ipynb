{
 "cells": [
  {
   "cell_type": "code",
   "execution_count": 2,
   "metadata": {},
   "outputs": [
    {
     "name": "stdout",
     "output_type": "stream",
     "text": [
      "Order placed:  71001413\n"
     ]
    }
   ],
   "source": [
    "import MetaTrader5 as mt5\n",
    "\n",
    "# Connect to MetaTrader 5\n",
    "mt5.initialize()\n",
    "\n",
    "# Define the symbol and lot size\n",
    "symbol = \"EURUSD.a\"\n",
    "lot = 0.01\n",
    "\n",
    "# Get the ask price for the symbol\n",
    "ask = mt5.symbol_info(symbol).ask\n",
    "\n",
    "# Choose the deviation (slippage) in points\n",
    "deviation = 100\n",
    "\n",
    "# Find the filling mode for the symbol\n",
    "def find_filling_mode(symbol):\n",
    "    \n",
    "        for i in range(2):\n",
    "            request = {\n",
    "            \"action\": mt5.TRADE_ACTION_DEAL,\n",
    "            \"symbol\": symbol,\n",
    "            \"volume\": mt5.symbol_info(symbol).volume_min,\n",
    "            \"type\": mt5.ORDER_TYPE_BUY,\n",
    "            \"price\": mt5.symbol_info(symbol).ask,\n",
    "            \"type_filling\": i,\n",
    "            \"type_time\": mt5.ORDER_TIME_GTC}\n",
    "\n",
    "            result = mt5.order_check(request)\n",
    "            \n",
    "            if result.comment == \"Done\":\n",
    "                break\n",
    "\n",
    "        return i\n",
    "\n",
    "# Create the trade request dictionary\n",
    "request = {\n",
    "    \"action\": mt5.TRADE_ACTION_DEAL,\n",
    "    \"symbol\": symbol,\n",
    "    \"volume\": lot,\n",
    "    \"type\": mt5.ORDER_TYPE_BUY,\n",
    "    \"price\": ask,\n",
    "    \"deviation\": deviation,\n",
    "    \"type_filling\": 1,\n",
    "    \"type_time\": mt5.ORDER_TIME_GTC,\n",
    "}\n",
    "\n",
    "# Send the trade request and check the result\n",
    "result = mt5.order_send(request)\n",
    "if result.retcode != mt5.TRADE_RETCODE_DONE:\n",
    "    print(\"Order failed: \", result.comment)\n",
    "else:\n",
    "    print(\"Order placed: \", result.order)"
   ]
  },
  {
   "cell_type": "code",
   "execution_count": 10,
   "metadata": {},
   "outputs": [
    {
     "data": {
      "text/plain": [
       "(1, 'Success')"
      ]
     },
     "execution_count": 10,
     "metadata": {},
     "output_type": "execute_result"
    }
   ],
   "source": [
    "mt5.last_error()"
   ]
  },
  {
   "cell_type": "code",
   "execution_count": 19,
   "metadata": {},
   "outputs": [
    {
     "data": {
      "text/plain": [
       "(TradePosition(ticket=71001705, time=1677588241, time_msc=1677588241051, time_update=1677588241, time_update_msc=1677588241051, type=0, magic=0, identifier=71001705, reason=3, volume=0.01, price_open=1.06099, sl=0.0, tp=0.0, price_current=1.06071, swap=0.0, profit=-0.42, symbol='EURUSD.a', comment='', external_id=''),)"
      ]
     },
     "execution_count": 19,
     "metadata": {},
     "output_type": "execute_result"
    }
   ],
   "source": [
    "mt5.positions_get()"
   ]
  },
  {
   "cell_type": "code",
   "execution_count": 20,
   "metadata": {},
   "outputs": [
    {
     "data": {
      "text/plain": [
       "OrderSendResult(retcode=10009, deal=55607386, order=71001724, volume=0.01, price=1.06081, bid=0.0, ask=0.0, comment='Request executed', request_id=10, retcode_external=0, request=TradeRequest(action=1, magic=0, order=0, symbol='EURUSD.a', volume=0.01, price=1.06081, stoplimit=0.0, sl=0.0, tp=0.0, deviation=100, type=1, type_filling=1, type_time=0, expiration=0, comment='', position=71001705, position_by=0))"
      ]
     },
     "execution_count": 20,
     "metadata": {},
     "output_type": "execute_result"
    }
   ],
   "source": [
    "request = {\n",
    "    \"action\": mt5.TRADE_ACTION_DEAL,\n",
    "    \"symbol\": symbol,\n",
    "    \"volume\": lot,\n",
    "    \"position\": 71001705,\n",
    "    \"type\": mt5.ORDER_TYPE_SELL,\n",
    "    \"price\": mt5.symbol_info(symbol).bid,\n",
    "    \"deviation\": deviation,\n",
    "    \"type_filling\": find_filling_mode(symbol),\n",
    "    \"type_time\": mt5.ORDER_TIME_GTC,\n",
    "}\n",
    "mt5.order_send(request)"
   ]
  },
  {
   "attachments": {},
   "cell_type": "markdown",
   "metadata": {},
   "source": [
    "Automate Buy and Sell orders"
   ]
  },
  {
   "cell_type": "code",
   "execution_count": 21,
   "metadata": {},
   "outputs": [],
   "source": [
    "def send_order(symbol, lot, buy, sell, id_position=None, comment=\" No specific comment\", magic=0):\n",
    "    mt5.initialize()\n",
    "\n",
    "    def find_filling_mode(symbol):\n",
    "        for i in range(2):\n",
    "            request = {\n",
    "            \"action\": mt5.TRADE_ACTION_DEAL,\n",
    "            \"symbol\": symbol,\n",
    "            \"volume\": mt5.symbol_info(symbol).volume_min,\n",
    "            \"type\": mt5.ORDER_TYPE_BUY,\n",
    "            \"price\": mt5.symbol_info(symbol).ask,\n",
    "            \"type_filling\": i,\n",
    "            \"type_time\": mt5.ORDER_TIME_GTC}\n",
    "            result = mt5.order_check(request)\n",
    "            if result.comment == \"Done\":\n",
    "                break\n",
    "\n",
    "        return i\n",
    "    \n",
    "    if buy and id_position==None:\n",
    "        request = {\n",
    "            \"action\": mt5.TRADE_ACTION_DEAL,\n",
    "            \"symbol\": symbol,\n",
    "            \"volume\": lot,\n",
    "            \"type\": mt5.ORDER_TYPE_BUY,\n",
    "            \"price\": mt5.symbol_info(symbol).ask,\n",
    "            \"magic\": magic,\n",
    "            \"comment\": comment,\n",
    "            \"type_filling\": find_filling_mode(symbol),\n",
    "            \"type_time\": mt5.ORDER_TIME_GTC,\n",
    "        }\n",
    "        result = mt5.order_send(request)\n",
    "        return result\n",
    "    \n",
    "    if sell and id_position==None:\n",
    "        request = {\n",
    "            \"action\": mt5.TRADE_ACTION_DEAL,\n",
    "            \"symbol\": symbol,\n",
    "            \"volume\": lot,\n",
    "            \"type\": mt5.ORDER_TYPE_SELL,\n",
    "            \"price\": mt5.symbol_info(symbol).bid,\n",
    "            \"deviation\": 10,\n",
    "            \"magic\": magic,\n",
    "            \"comment\": comment,\n",
    "            \"type_filling\": find_filling_mode(symbol),\n",
    "            \"type_time\": mt5.ORDER_TIME_GTC,\n",
    "        }\n",
    "        result = mt5.order_send(request)\n",
    "        return result\n",
    "    \n",
    "    # CLOSE A TRADE\n",
    "\n",
    "    if buy and id_position!=None:\n",
    "        request = {\n",
    "            \"position\": id_position,\n",
    "            \"action\": mt5.TRADE_ACTION_DEAL,\n",
    "            \"symbol\": symbol,\n",
    "            \"volume\": lot,\n",
    "            \"type\": mt5.ORDER_TYPE_SELL,\n",
    "            \"price\": mt5.symbol_info(symbol).bid,\n",
    "            \"deviation\": 10,\n",
    "            \"magic\": magic,\n",
    "            \"comment\": comment,\n",
    "            \"type_filling\": find_filling_mode(symbol),\n",
    "            \"type_time\": mt5.ORDER_TIME_GTC,\n",
    "        }\n",
    "        result = mt5.order_send(request)\n",
    "        return result\n",
    "    \n",
    "    if sell and id_position!=None:\n",
    "        request = {\n",
    "            \"position\": id_position,\n",
    "            \"action\": mt5.TRADE_ACTION_DEAL,\n",
    "            \"symbol\": symbol,\n",
    "            \"volume\": lot,\n",
    "            \"type\": mt5.ORDER_TYPE_BUY,\n",
    "            \"price\": mt5.symbol_info(symbol).ask,\n",
    "            \"deviation\": 10,\n",
    "            \"magic\": magic,\n",
    "            \"comment\": comment,\n",
    "            \"type_filling\": find_filling_mode(symbol),\n",
    "            \"type_time\": mt5.ORDER_TIME_GTC,\n",
    "        }\n",
    "        result = mt5.order_send(request)\n",
    "        return result\n"
   ]
  },
  {
   "cell_type": "code",
   "execution_count": 22,
   "metadata": {},
   "outputs": [
    {
     "data": {
      "text/plain": [
       "OrderSendResult(retcode=10009, deal=55607775, order=71002132, volume=0.01, price=1.0615, bid=0.0, ask=0.0, comment='Request executed', request_id=11, retcode_external=0, request=TradeRequest(action=1, magic=0, order=0, symbol='EURUSD.a', volume=0.01, price=1.0615, stoplimit=0.0, sl=0.0, tp=0.0, deviation=0, type=0, type_filling=1, type_time=0, expiration=0, comment=' No specific comment', position=0, position_by=0))"
      ]
     },
     "execution_count": 22,
     "metadata": {},
     "output_type": "execute_result"
    }
   ],
   "source": [
    "information = send_order(\"EURUSD.a\", 0.01, True, False)\n",
    "information"
   ]
  },
  {
   "cell_type": "code",
   "execution_count": 23,
   "metadata": {},
   "outputs": [
    {
     "data": {
      "text/plain": [
       "OrderSendResult(retcode=10009, deal=55607930, order=71002286, volume=0.01, price=1.06154, bid=0.0, ask=0.0, comment='Request executed', request_id=12, retcode_external=0, request=TradeRequest(action=1, magic=0, order=0, symbol='EURUSD.a', volume=0.01, price=1.06153, stoplimit=0.0, sl=0.0, tp=0.0, deviation=10, type=1, type_filling=1, type_time=0, expiration=0, comment=' No specific comment', position=71002132, position_by=0))"
      ]
     },
     "execution_count": 23,
     "metadata": {},
     "output_type": "execute_result"
    }
   ],
   "source": [
    "send_order(\"EURUSD.a\", 0.01, True, False, id_position=information.order)"
   ]
  }
 ],
 "metadata": {
  "kernelspec": {
   "display_name": "base",
   "language": "python",
   "name": "python3"
  },
  "language_info": {
   "codemirror_mode": {
    "name": "ipython",
    "version": 3
   },
   "file_extension": ".py",
   "mimetype": "text/x-python",
   "name": "python",
   "nbconvert_exporter": "python",
   "pygments_lexer": "ipython3",
   "version": "3.9.13"
  },
  "orig_nbformat": 4,
  "vscode": {
   "interpreter": {
    "hash": "0f40ab2526fa8d1be48be0856e746aabd6f85c3c8b31ebfbd5c7c9ed05264adc"
   }
  }
 },
 "nbformat": 4,
 "nbformat_minor": 2
}
