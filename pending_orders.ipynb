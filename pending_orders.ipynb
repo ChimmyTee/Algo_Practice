{
 "cells": [
  {
   "cell_type": "code",
   "execution_count": 1,
   "metadata": {},
   "outputs": [],
   "source": [
    "import MetaTrader5 as mt5\n",
    "from datetime import datetime\n",
    "import numpy as np"
   ]
  },
  {
   "cell_type": "code",
   "execution_count": 3,
   "metadata": {},
   "outputs": [
    {
     "data": {
      "text/plain": [
       "True"
      ]
     },
     "execution_count": 3,
     "metadata": {},
     "output_type": "execute_result"
    }
   ],
   "source": [
    "mt5.initialize()"
   ]
  },
  {
   "cell_type": "code",
   "execution_count": 4,
   "metadata": {},
   "outputs": [],
   "source": [
    "symbol = \"EURUSD.a\"\n",
    "point = mt5.symbol_info(symbol).point\n",
    "def find_filling_mode(symbol):\n",
    "        for i in range(2):\n",
    "            request = {\n",
    "            \"action\": mt5.TRADE_ACTION_DEAL,\n",
    "            \"symbol\": symbol,\n",
    "            \"volume\": mt5.symbol_info(symbol).volume_min,\n",
    "            \"type\": mt5.ORDER_TYPE_BUY,\n",
    "            \"price\": mt5.symbol_info(symbol).ask,\n",
    "            \"type_filling\": i,\n",
    "            \"type_time\": mt5.ORDER_TIME_GTC}\n",
    "            result = mt5.order_check(request)\n",
    "            if result.comment == \"Done\":\n",
    "                break\n",
    "        return i"
   ]
  },
  {
   "cell_type": "code",
   "execution_count": 7,
   "metadata": {},
   "outputs": [
    {
     "data": {
      "text/plain": [
       "OrderSendResult(retcode=10009, deal=0, order=71175482, volume=0.01, price=0.0, bid=0.0, ask=0.0, comment='Request executed', request_id=2, retcode_external=0, request=TradeRequest(action=5, magic=0, order=0, symbol='EURUSD.a', volume=0.01, price=1.06355, stoplimit=0.0, sl=1.06404, tp=1.06004, deviation=0, type=3, type_filling=1, type_time=0, expiration=0, comment='', position=0, position_by=0))"
      ]
     },
     "execution_count": 7,
     "metadata": {},
     "output_type": "execute_result"
    }
   ],
   "source": [
    "request = {\n",
    "    \"action\": mt5.TRADE_ACTION_PENDING,\n",
    "    \"symbol\": symbol,\n",
    "    \"volume\": 0.01,\n",
    "    \"type\": mt5.ORDER_TYPE_SELL_LIMIT,\n",
    "    \"price\": mt5.symbol_info_tick(symbol).bid+100*point,\n",
    "    # \"price\": 1.06355,\n",
    "    \"tp\": mt5.symbol_info_tick(symbol).ask - 200*point,\n",
    "    \"sl\": mt5.symbol_info_tick(symbol).ask + 200*point,\n",
    "    \"type_filling\": find_filling_mode(symbol),\n",
    "    \"type_time\": mt5.ORDER_TIME_GTC,\n",
    "}\n",
    "\n",
    "mt5.order_send(request)"
   ]
  },
  {
   "cell_type": "code",
   "execution_count": 10,
   "metadata": {},
   "outputs": [
    {
     "data": {
      "text/plain": [
       "OrderSendResult(retcode=10009, deal=0, order=71175455, volume=0.0, price=0.0, bid=0.0, ask=0.0, comment='Request executed', request_id=4, retcode_external=0, request=TradeRequest(action=8, magic=0, order=71175455, symbol='', volume=0.0, price=0.0, stoplimit=0.0, sl=0.0, tp=0.0, deviation=0, type=0, type_filling=0, type_time=0, expiration=0, comment='', position=0, position_by=0))"
      ]
     },
     "execution_count": 10,
     "metadata": {},
     "output_type": "execute_result"
    }
   ],
   "source": [
    "# REMOVE PENDING ORDER\n",
    "request = {\n",
    "    \"action\": mt5.TRADE_ACTION_REMOVE,\n",
    "    \"order\": 71175455,\n",
    "}\n",
    "\n",
    "mt5.order_send(request)"
   ]
  },
  {
   "cell_type": "code",
   "execution_count": null,
   "metadata": {},
   "outputs": [],
   "source": [
    "# CHANGE SL/TP\n",
    "request = {\n",
    "    \"action\": mt5.TRADE_ACTION_SLTP,\n",
    "    \"symbol\": symbol,\n",
    "    \"position\": 1,\n",
    "    \"volume\": 0.01,\n",
    "    \"type\": mt5.ORDER_TYPE_SELL_LIMIT,\n",
    "    \"price\": mt5.symbol_info_tick(symbol).bid+100*point,\n",
    "    # \"price\": 1.06355,\n",
    "    \"tp\": mt5.symbol_info_tick(symbol).ask - 200*point,\n",
    "    \"sl\": mt5.symbol_info_tick(symbol).ask + 200*point,\n",
    "    \"type_filling\": find_filling_mode(symbol),\n",
    "    \"type_time\": mt5.ORDER_TIME_GTC,\n",
    "}"
   ]
  }
 ],
 "metadata": {
  "kernelspec": {
   "display_name": "base",
   "language": "python",
   "name": "python3"
  },
  "language_info": {
   "codemirror_mode": {
    "name": "ipython",
    "version": 3
   },
   "file_extension": ".py",
   "mimetype": "text/x-python",
   "name": "python",
   "nbconvert_exporter": "python",
   "pygments_lexer": "ipython3",
   "version": "3.9.13"
  },
  "orig_nbformat": 4
 },
 "nbformat": 4,
 "nbformat_minor": 2
}
