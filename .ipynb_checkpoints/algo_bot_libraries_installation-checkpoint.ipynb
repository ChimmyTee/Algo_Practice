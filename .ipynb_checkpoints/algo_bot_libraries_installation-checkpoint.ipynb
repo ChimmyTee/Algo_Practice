{
 "cells": [
  {
   "cell_type": "code",
   "execution_count": 2,
   "id": "8e5f4b97",
   "metadata": {},
   "outputs": [
    {
     "name": "stdout",
     "output_type": "stream",
     "text": [
      "Requirement already satisfied: ta in c:\\users\\jimmy\\appdata\\roaming\\python\\python39\\site-packages (0.10.2)\n",
      "Requirement already satisfied: numpy in c:\\users\\jimmy\\anaconda3\\lib\\site-packages (from ta) (1.21.5)\n",
      "Requirement already satisfied: pandas in c:\\users\\jimmy\\anaconda3\\lib\\site-packages (from ta) (1.4.4)\n",
      "Requirement already satisfied: pytz>=2020.1 in c:\\users\\jimmy\\anaconda3\\lib\\site-packages (from pandas->ta) (2022.1)\n",
      "Requirement already satisfied: python-dateutil>=2.8.1 in c:\\users\\jimmy\\anaconda3\\lib\\site-packages (from pandas->ta) (2.8.2)\n",
      "Requirement already satisfied: six>=1.5 in c:\\users\\jimmy\\anaconda3\\lib\\site-packages (from python-dateutil>=2.8.1->pandas->ta) (1.16.0)\n",
      "Collecting datetime\n",
      "  Downloading DateTime-5.0-py3-none-any.whl (52 kB)\n",
      "     ---------------------------------------- 52.1/52.1 kB 2.6 MB/s eta 0:00:00\n",
      "Requirement already satisfied: pytz in c:\\users\\jimmy\\anaconda3\\lib\\site-packages (from datetime) (2022.1)\n",
      "Requirement already satisfied: zope.interface in c:\\users\\jimmy\\anaconda3\\lib\\site-packages (from datetime) (5.4.0)\n",
      "Requirement already satisfied: setuptools in c:\\users\\jimmy\\anaconda3\\lib\\site-packages (from zope.interface->datetime) (63.4.1)\n",
      "Installing collected packages: datetime\n",
      "Successfully installed datetime-5.0\n",
      "Collecting MetaTrader5\n",
      "  Downloading MetaTrader5-5.0.44-cp39-cp39-win_amd64.whl (57 kB)\n",
      "     ---------------------------------------- 57.1/57.1 kB 2.9 MB/s eta 0:00:00\n",
      "Requirement already satisfied: numpy>=1.7 in c:\\users\\jimmy\\anaconda3\\lib\\site-packages (from MetaTrader5) (1.21.5)\n",
      "Installing collected packages: MetaTrader5\n",
      "Successfully installed MetaTrader5-5.0.44\n"
     ]
    }
   ],
   "source": [
    "import sys\n",
    "\n",
    "!{sys.executable} -m pip install ta --user\n",
    "!{sys.executable} -m pip install datetime --user\n",
    "!{sys.executable} -m pip install MetaTrader5 --user"
   ]
  },
  {
   "cell_type": "code",
   "execution_count": null,
   "id": "577b7acb",
   "metadata": {},
   "outputs": [],
   "source": []
  }
 ],
 "metadata": {
  "kernelspec": {
   "display_name": "Python 3 (ipykernel)",
   "language": "python",
   "name": "python3"
  },
  "language_info": {
   "codemirror_mode": {
    "name": "ipython",
    "version": 3
   },
   "file_extension": ".py",
   "mimetype": "text/x-python",
   "name": "python",
   "nbconvert_exporter": "python",
   "pygments_lexer": "ipython3",
   "version": "3.9.13"
  }
 },
 "nbformat": 4,
 "nbformat_minor": 5
}
