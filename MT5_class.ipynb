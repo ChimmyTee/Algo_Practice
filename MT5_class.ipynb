{
 "cells": [
  {
   "cell_type": "code",
   "execution_count": 34,
   "metadata": {},
   "outputs": [],
   "source": [
    "import MetaTrader5 as mt5\n",
    "import pandas as pd\n",
    "import numpy as np\n",
    "\n",
    "class MT5:\n",
    "\n",
    "    def get_ticks(symbol, number_of_data = 10000):\n",
    "        from_date = datetime.now()\n",
    "        ticks = mt5.copy_ticks_from(symbol, from_date, number_of_data, mt5.COPY_TICKS_ALL)\n",
    "        df_ticks = pd.DataFrame(ticks)\n",
    "        df_ticks[\"time\"] = pd.to_datetime(df_ticks[\"time\"], unit=\"s\")\n",
    "        df_ticks = df_ticks.set_index(\"time\")\n",
    "        return df_ticks\n",
    "\n",
    "    def get_rates(symbol, number_of_data = 10000, timeframe=mt5.TIMEFRAME_D1):\n",
    "\n",
    "        from_date = datetime.now()\n",
    "        rates = mt5.copy_rates_from(symbol, timeframe, from_date, number_of_data)\n",
    "        rates_frame = pd.DataFrame(rates)\n",
    "\n",
    "        rates_frame['time'] = pd.to_datetime(rates_frame['time'], unit='s')\n",
    "        rates_frame['time'] = pd.to_datetime(rates_frame['time'], format='%Y-%m-%d')\n",
    "        rates_frame = rates_frame.set_index('time')\n",
    "        \n",
    "        return rates_frame\n",
    "\n",
    "    def risk_reward_threshold(symbol, buy=True, risk=0.01, reward=0.02):\n",
    "        #\n",
    "        leverage = mt5.account_info().leverage\n",
    "\n",
    "        # Extract the middle price between ask, and bid.\n",
    "        # price = (mt5.symbol_info(symbol).ask + mt5.symbol_info(symbol).bid) / 2\n",
    "        priceDecimal = mt5.symbol_info(symbol).ask\n",
    "\n",
    "        # Counts the number of decimals, after the dot.\n",
    "        nb_decimal = str(priceDecimal)[::-1].find(\".\")\n",
    "\n",
    "        # Compute the variations in percentage\n",
    "        var_down = risk/leverage\n",
    "        var_up = reward/leverage\n",
    "\n",
    "        # Computer the variations in absolute price\n",
    "        # price_var_down = var_down*price\n",
    "        # price_var_up = var_up*price\n",
    "\n",
    "        if buy:\n",
    "            price = mt5.symbol_info(symbol).ask\n",
    "            price_var_down = var_down*price\n",
    "            price_var_up = var_up*price\n",
    "\n",
    "            tp = np.round(price + price_var_up, nb_decimal)\n",
    "            sl = np.round(price - price_var_down, nb_decimal)\n",
    "            print(f\"PRICE: {price} \\t Take Profit: {tp} \\t Stop Loss: {sl}\")\n",
    "            return tp, sl\n",
    "        else:\n",
    "            price = mt5.symbol_info(symbol).bid\n",
    "            price_var_down = var_down*price\n",
    "            price_var_up = var_up*price\n",
    "\n",
    "            tp = np.round(price - price_var_up, nb_decimal)\n",
    "            sl = np.round(price + price_var_down, nb_decimal)\n",
    "            print(f\"PRICE: {price} \\t Take Profit: {tp} \\t Stop Loss: {sl}\")\n",
    "            return tp, sl\n",
    "\n",
    "        \n"
   ]
  },
  {
   "cell_type": "code",
   "execution_count": 28,
   "metadata": {},
   "outputs": [
    {
     "data": {
      "text/plain": [
       "True"
      ]
     },
     "execution_count": 28,
     "metadata": {},
     "output_type": "execute_result"
    }
   ],
   "source": [
    "mt5.initialize()"
   ]
  },
  {
   "cell_type": "code",
   "execution_count": 26,
   "metadata": {},
   "outputs": [
    {
     "name": "stdout",
     "output_type": "stream",
     "text": [
      "Empty DataFrame\n",
      "Columns: [bid, ask, last, volume, time_msc, flags, volume_real]\n",
      "Index: []\n"
     ]
    }
   ],
   "source": [
    "something = MT5.get_ticks(\"EURUSD.a\")\n",
    "print(something)"
   ]
  },
  {
   "cell_type": "code",
   "execution_count": 29,
   "metadata": {},
   "outputs": [
    {
     "name": "stdout",
     "output_type": "stream",
     "text": [
      "               open     high      low    close  tick_volume  spread  \\\n",
      "time                                                                  \n",
      "1987-03-06  1.06310  1.06370  1.06310  1.06340           91      50   \n",
      "1987-03-09  1.05510  1.05650  1.05480  1.05500          331      50   \n",
      "1987-03-10  1.05340  1.05380  1.05340  1.05340           81      50   \n",
      "1987-03-11  1.04710  1.05110  1.04510  1.04730         1181      50   \n",
      "1987-03-12  1.05100  1.05100  1.05100  1.05100            1      50   \n",
      "...             ...      ...      ...      ...          ...     ...   \n",
      "2023-04-03  1.08400  1.09167  1.07883  1.09024        74960       0   \n",
      "2023-04-04  1.08878  1.09735  1.08829  1.09557        72209       0   \n",
      "2023-04-05  1.09490  1.09696  1.08911  1.09070        72149       0   \n",
      "2023-04-06  1.09006  1.09377  1.08846  1.09208        56851       0   \n",
      "2023-04-07  1.09184  1.09241  1.08764  1.08972        24691       0   \n",
      "\n",
      "            real_volume  \n",
      "time                     \n",
      "1987-03-06            0  \n",
      "1987-03-09            0  \n",
      "1987-03-10            0  \n",
      "1987-03-11            0  \n",
      "1987-03-12            0  \n",
      "...                 ...  \n",
      "2023-04-03            0  \n",
      "2023-04-04            0  \n",
      "2023-04-05            0  \n",
      "2023-04-06            0  \n",
      "2023-04-07            0  \n",
      "\n",
      "[10000 rows x 7 columns]\n"
     ]
    }
   ],
   "source": [
    "something2 = MT5.get_rates(\"EURUSD.a\")\n",
    "print(something2)"
   ]
  },
  {
   "cell_type": "code",
   "execution_count": 35,
   "metadata": {},
   "outputs": [
    {
     "name": "stdout",
     "output_type": "stream",
     "text": [
      "PRICE: 1.0903100000000001 \t Take Profit: 1.0910368733333335 \t Stop Loss: 1.0899465633333334\n",
      "(1.0910368733333335, 1.0899465633333334)\n"
     ]
    }
   ],
   "source": [
    "something3 = MT5.risk_reward_threshold(\"EURUSD.a\", reward=0.01)\n",
    "print(something3)"
   ]
  },
  {
   "cell_type": "code",
   "execution_count": 36,
   "metadata": {},
   "outputs": [
    {
     "name": "stdout",
     "output_type": "stream",
     "text": [
      "PRICE: 1.0903100000000001 \t Take Profit: 1.09140031 \t Stop Loss: 1.0899465633333334\n",
      "(1.09140031, 1.0899465633333334)\n"
     ]
    }
   ],
   "source": [
    "something4 = MT5.risk_reward_threshold(\"EURUSD.a\", reward=0.03)\n",
    "print(something4)"
   ]
  }
 ],
 "metadata": {
  "kernelspec": {
   "display_name": "base",
   "language": "python",
   "name": "python3"
  },
  "language_info": {
   "codemirror_mode": {
    "name": "ipython",
    "version": 3
   },
   "file_extension": ".py",
   "mimetype": "text/x-python",
   "name": "python",
   "nbconvert_exporter": "python",
   "pygments_lexer": "ipython3",
   "version": "3.9.13"
  },
  "orig_nbformat": 4
 },
 "nbformat": 4,
 "nbformat_minor": 2
}
