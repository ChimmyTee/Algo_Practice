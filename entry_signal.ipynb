{
 "cells": [
  {
   "cell_type": "code",
   "execution_count": null,
   "metadata": {},
   "outputs": [],
   "source": [
    "import MetaTrader5 as mt5\n",
    "import pandas as pd\n",
    "import numpy as np\n",
    "import warnings\n",
    "from datetime import datetime\n",
    "import ta\n",
    "warnings.filterwarnings(\"ignore\")"
   ]
  },
  {
   "cell_type": "code",
   "execution_count": null,
   "metadata": {},
   "outputs": [],
   "source": [
    "class MT5:\n",
    "    def get_rates(symbol, n, timeframe=mt5.TIMEFRAME_D1):\n",
    "        mt5.initialize()\n",
    "\n",
    "        utc_from = datetime.now()\n",
    "\n",
    "        rates = mt5.copy_rates_from(symbol, timeframe, utc_from, n)\n",
    "\n",
    "        rates_frame = pd.DataFrame(rates)\n",
    "\n",
    "        rates_frame['time'] = pd.to_datetime(rates_frame['time'], unit='s')\n",
    "\n",
    "        rates_frame['time'] = pd.to_datetime(rates_frame['time'], format='%Y-%m-%d')\n",
    "\n",
    "        rates_frame = rates_frame.set_index('time')\n",
    "        \n",
    "        return rates_frame"
   ]
  }
 ],
 "metadata": {
  "language_info": {
   "name": "python"
  },
  "orig_nbformat": 4
 },
 "nbformat": 4,
 "nbformat_minor": 2
}
