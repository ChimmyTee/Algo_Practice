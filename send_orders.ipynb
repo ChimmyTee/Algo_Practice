{
 "cells": [
  {
   "cell_type": "code",
   "execution_count": 92,
   "metadata": {},
   "outputs": [],
   "source": [
    "import MetaTrader5 as mt5\n",
    "from datetime import datetime"
   ]
  },
  {
   "cell_type": "code",
   "execution_count": 93,
   "metadata": {},
   "outputs": [
    {
     "data": {
      "text/plain": [
       "True"
      ]
     },
     "execution_count": 93,
     "metadata": {},
     "output_type": "execute_result"
    }
   ],
   "source": [
    "mt5.initialize()"
   ]
  },
  {
   "attachments": {},
   "cell_type": "markdown",
   "metadata": {},
   "source": [
    "**Send buy Order** <br>\n",
    "https://www.mql5.com/en/docs/python_metatrader5/mt5ordercheck_py"
   ]
  },
  {
   "cell_type": "code",
   "execution_count": 7,
   "metadata": {},
   "outputs": [
    {
     "data": {
      "text/plain": [
       "OrderCheckResult(retcode=10030, balance=0.0, equity=0.0, profit=0.0, margin=0.0, margin_free=0.0, margin_level=0.0, comment='Unsupported filling mode', request=TradeRequest(action=1, magic=0, order=0, symbol='EURUSD', volume=0.01, price=1.05449, stoplimit=0.0, sl=0.0, tp=0.0, deviation=10, type=0, type_filling=2, type_time=0, expiration=0, comment='', position=0, position_by=0))"
      ]
     },
     "execution_count": 7,
     "metadata": {},
     "output_type": "execute_result"
    }
   ],
   "source": [
    "# Place buy order\n",
    "\n",
    "# Initialization value\n",
    "symbol = \"EURUSD\"\n",
    "lot = 0.01\n",
    "\n",
    "# Extract ask price\n",
    "\n",
    "# Choose the deviation aka slippage, in number of points,\n",
    "# sometimes we can't place an order because the slippage is too high, and we need to increase this value.\n",
    "deviation = 10\n",
    "\n",
    "# Find the filling mode of the symbol\n",
    "filling_type = mt5.symbol_info(symbol).filling_mode\n",
    "\n",
    "# Create dictionary request\n",
    "request = {\n",
    "    \"action\": mt5.TRADE_ACTION_DEAL,\n",
    "    \"symbol\": symbol,\n",
    "    \"volume\": lot,\n",
    "    \"type\": mt5.ORDER_TYPE_BUY,\n",
    "    \"price\": mt5.symbol_info_tick(symbol).ask,\n",
    "    \"deviation\": deviation,\n",
    "    \"type_filling\": filling_type,\n",
    "    \"type_time\": mt5.ORDER_TIME_GTC\n",
    "}\n",
    "\n",
    "# Check Order is very useful on a real account.\n",
    "# It checks if the structure is good\n",
    "mt5.order_check(request)"
   ]
  },
  {
   "cell_type": "code",
   "execution_count": 12,
   "metadata": {},
   "outputs": [
    {
     "data": {
      "text/plain": [
       "(1, 'Success')"
      ]
     },
     "execution_count": 12,
     "metadata": {},
     "output_type": "execute_result"
    }
   ],
   "source": [
    "mt5.last_error()"
   ]
  },
  {
   "cell_type": "code",
   "execution_count": 94,
   "metadata": {},
   "outputs": [
    {
     "data": {
      "text/plain": [
       "OrderSendResult(retcode=10030, deal=0, order=0, volume=0.0, price=0.0, bid=0.0, ask=0.0, comment='Unsupported filling mode', request_id=0, retcode_external=0, request=TradeRequest(action=1, magic=0, order=0, symbol='BTCUSD', volume=0.01, price=22946.0, stoplimit=0.0, sl=0.0, tp=0.0, deviation=100000, type=0, type_filling=2, type_time=0, expiration=0, comment='', position=0, position_by=0))"
      ]
     },
     "execution_count": 94,
     "metadata": {},
     "output_type": "execute_result"
    }
   ],
   "source": [
    "# Place buy order\n",
    "\n",
    "# Initialization value\n",
    "symbol = \"BTCUSD\"\n",
    "lot = 0.01\n",
    "\n",
    "# Extract ask price\n",
    "\n",
    "# Choose the deviation aka slippage, in number of points,\n",
    "# sometimes we can't place an order because the slippage is too high, and we need to increase this value.\n",
    "deviation = 100000\n",
    "\n",
    "# Find the filling mode of the symbol\n",
    "filling_type = mt5.symbol_info(symbol).filling_mode\n",
    "\n",
    "# Create dictionary request\n",
    "request = {\n",
    "    \"action\": mt5.TRADE_ACTION_DEAL,\n",
    "    \"symbol\": symbol,\n",
    "    \"volume\": lot,\n",
    "    \"type\": mt5.ORDER_TYPE_BUY,\n",
    "    \"price\": mt5.symbol_info_tick(symbol).ask,\n",
    "    \"deviation\": deviation,\n",
    "    \"type_filling\": filling_type,\n",
    "    \"type_time\": mt5.ORDER_TIME_GTC\n",
    "}\n",
    "\n",
    "mt5.order_send(request)\n"
   ]
  },
  {
   "cell_type": "code",
   "execution_count": 74,
   "metadata": {},
   "outputs": [
    {
     "name": "stdout",
     "output_type": "stream",
     "text": [
      "OrderSendResult(retcode=10030, deal=0, order=0, volume=0.0, price=0.0, bid=0.0, ask=0.0, comment='Unsupported filling mode', request_id=0, retcode_external=0, request=TradeRequest(action=1, magic=0, order=0, symbol='BTCUSD', volume=0.01, price=22975.0, stoplimit=0.0, sl=0.0, tp=0.0, deviation=1010, type=0, type_filling=2, type_time=0, expiration=0, comment='', position=0, position_by=0))\n"
     ]
    }
   ],
   "source": [
    "print(result)"
   ]
  },
  {
   "cell_type": "code",
   "execution_count": 83,
   "metadata": {},
   "outputs": [
    {
     "name": "stdout",
     "output_type": "stream",
     "text": [
      "Filling mode for symbol BTCUSD: 2\n"
     ]
    }
   ],
   "source": [
    "symbol = \"BTCUSD\"\n",
    "symbol_info = mt5.symbol_info(symbol)\n",
    "filling_mode = symbol_info.filling_mode\n",
    "print(\"Filling mode for symbol {}: {}\".format(symbol, filling_mode))"
   ]
  },
  {
   "cell_type": "code",
   "execution_count": 89,
   "metadata": {},
   "outputs": [
    {
     "data": {
      "text/plain": [
       "22960.5"
      ]
     },
     "execution_count": 89,
     "metadata": {},
     "output_type": "execute_result"
    }
   ],
   "source": [
    "symbol = \"BTCUSD\"\n",
    "mt5.symbol_info_tick(symbol).ask\n"
   ]
  }
 ],
 "metadata": {
  "kernelspec": {
   "display_name": "base",
   "language": "python",
   "name": "python3"
  },
  "language_info": {
   "codemirror_mode": {
    "name": "ipython",
    "version": 3
   },
   "file_extension": ".py",
   "mimetype": "text/x-python",
   "name": "python",
   "nbconvert_exporter": "python",
   "pygments_lexer": "ipython3",
   "version": "3.9.13"
  },
  "orig_nbformat": 4,
  "vscode": {
   "interpreter": {
    "hash": "0f40ab2526fa8d1be48be0856e746aabd6f85c3c8b31ebfbd5c7c9ed05264adc"
   }
  }
 },
 "nbformat": 4,
 "nbformat_minor": 2
}
